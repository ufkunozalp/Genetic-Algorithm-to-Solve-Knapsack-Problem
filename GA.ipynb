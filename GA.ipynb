{
  "nbformat": 4,
  "nbformat_minor": 0,
  "metadata": {
    "colab": {
      "name": "AIAB_lab2.ipynb adlı not defterinin kopyası",
      "provenance": [],
      "collapsed_sections": []
    },
    "kernelspec": {
      "name": "python3",
      "display_name": "Python 3"
    }
  },
  "cells": [
    {
      "cell_type": "markdown",
      "metadata": {
        "id": "Mp7i_jzAKGPy"
      },
      "source": [
        "<h1><center><b> Acquired Intelligence & Adaptive Behaviour </b></center></h1>\n",
        "<h2><center><i>An optimisation algorithm (Lab Sheet 02) </i></center></h2>\n",
        "\n",
        "\n",
        "**Goal**: In this notebook we will start by implementing a population of hill climbers to solve a resource allocation (or knapsack) problem. We will then contruct the full microbial GA presented in lectures. This will involve designing a suitable fitness function and selection method. You will investigate the effects of hyperparameters such as mutation rate. \n",
        "\n"
      ]
    },
    {
      "cell_type": "markdown",
      "metadata": {
        "id": "hdXY5i_-1yiR"
      },
      "source": [
        "# Knapsack problem\n",
        "\n",
        "The knapsack (KP) problem is an example of a combinatorial optimization problem, refer to the [wiki](https://en.wikipedia.org/wiki/Knapsack_problem) for a broader overview. \n",
        "\n",
        "<center><img src=\"https://upload.wikimedia.org/wikipedia/commons/thumb/f/fd/Knapsack.svg/250px-Knapsack.svg.png\" width=\"200\"></center>\n",
        "\n",
        "It is concerned with a knapsack that has positive integer volume (or capacity) $V$. For instance, the knapsack may be able to store 20 cubic metres in Volume (V). There are $N$ distinct items that may potentially be placed in the knapsack. Item $i$ has a positive integer\n",
        "volume $Vi$ (e.g this object is 8 cubic inches) and positive integer benefit $Bi$ (e.g how benefical is it to have this object in the knapsack). In the most basic form of the problem we will consider there are only one of each item available (0-1 KP).\n",
        "\n",
        "The goal is to maximize benefit:\n",
        "\n",
        "$$\n",
        "\\sum_i^N B_i\n",
        "$$\n",
        "\n",
        "Subject to the constraint that:\n",
        "\n",
        "$$\n",
        "\\big ( \\sum_i^N V_i \\big) \\leq  V\n",
        "$$\n",
        "\n",
        "For example suppose we have a knapsack that has a capacity of 20 cubic metres ($V$) and $N=10$ items of different sizes and different benefits. We want to include in the knapsack only these\n",
        "items that will have the greatest total benefit within the constraint of the knapsack’s capacity.\n",
        "\n",
        "```\n",
        "item        a b c d e f g  h i j\n",
        "Benefit (B) 5 6 1 9 2 8 4  3 7 10\n",
        "Volume (V)  3 2 4 5 8 9 10 1 6 7\n",
        "```\n"
      ]
    },
    {
      "cell_type": "markdown",
      "metadata": {
        "id": "P0IgkG2L4wZq"
      },
      "source": [
        "# Hill climbing agent\n",
        "**Background**: Hill climbers may be used to find solutions to a wide variety of problems. Each hill climbing individual increases its fitness through trial and error (one trial here can be though of as one generation):\n",
        "\n",
        "1. Create a random individual\n",
        "2. Change (mutate) the individual \n",
        "3. Measure how good this individual is for some task (fitness)\n",
        "4. If it's worse than before, keep the original individual. Otherwise, keep the changed individual.\n",
        "5. Goto 2\n",
        "\n",
        "\n",
        "Our  algorithms will be composed of four components:\n",
        "\n",
        "1. **Genotype**: a list of numbers which encode information about task solutions, representing an indvidual\n",
        "2. **Genotype to phenotype mapping**: How should the genotype be interpreted as encoding a solution to our problem? This is analogous to the development of an organism from birth to adulthood. However, for this current problem, this should turn out to be quite trivial.\n",
        "3. **Fitness function**: We need a way to evaluate how good each phenotype is as a potential solution to the card-sorting problem. How might this be implemented? \n",
        "4. A method for **mutation**. Is it necessary to allow random changes in the offspring produced by reproduction in order to maintain variability. \n",
        "\n",
        "> **Task**: Code a single hill climbing individuals to solve the above task. Implement your\n",
        "algorithm in full and run it for at least 100 generations (i.e. repetitions of the algorithm).\n",
        "Recording the fitness at each generation. Plot the fitness versus the generation number.\n",
        "Have you found a solution? Try changing the mutation rate and observe the effects.\n",
        "\n",
        "**Tips**:\n",
        "- Code an individual as a single vector, using binary digits (0 or 1) for each gene. Each digit represents whether the corresponding object is being included in the knapsack. Below is an example of how to generate this in python:\n",
        "\n"
      ]
    },
    {
      "cell_type": "markdown",
      "metadata": {
        "id": "Lj_z5dAv85_d"
      },
      "source": [
        "* There are several ways in which you can encode the problem itself (the volumes and benefit of each object). It may be useful to store these values as an array:"
      ]
    },
    {
      "cell_type": "markdown",
      "metadata": {
        "id": "3flVdcci8QZX"
      },
      "source": [
        "* The fitness function should return a _single number_ which quantifies how close to the ideal solution a phenotype is. Below is a rough example of what this function should look like:"
      ]
    },
    {
      "cell_type": "code",
      "metadata": {
        "id": "UoI6t92I8WnN"
      },
      "source": [
        "def fitness_function(genotype, benefits, volumes, max_volume):\n",
        "  fitness = 0\n",
        "  total_volume = 0\n",
        "  # Go through all genes\n",
        "  for i in range(num_items):\n",
        "    # Check gene to see if item is in knapsack\n",
        "    if(genotype[i] == 1):\n",
        "    # Add benefit and volume to variable respectively\n",
        "      fitness += benefits[i]\n",
        "      total_volume += volumes[i]   \n",
        "  # If total volume of items in knapsack exceeds limit\n",
        "  if(total_volume > max_volume):\n",
        "    fitness = 0\n",
        "  return fitness"
      ],
      "execution_count": 3,
      "outputs": []
    },
    {
      "cell_type": "markdown",
      "metadata": {
        "id": "SKMaaudb-IZi"
      },
      "source": [
        "* Implement your mutation by selecting a random gene (e.g by picking a random number between 1 and 10) and then flipping the number (0 to 1 or 1 to 0). \n",
        "\n",
        "* Overwrite the current individual if the new indvidual is better.\n",
        "\n",
        "**You will need to integrate these features into a loop which performs the genetic algorithm detailed above**."
      ]
    },
    {
      "cell_type": "code",
      "source": [
        "# Mutate function deals with mutating a gene\n",
        "def mutate(genotype, index, mutation_rate):\n",
        "  # Makes a copy of genotype\n",
        "  child = genotype.copy()\n",
        "  if(index*10 <= mutation_rate):\n",
        "    if(child[index] == 0):\n",
        "      child[index] = 1\n",
        "    else:\n",
        "      child[index] = 0\n",
        "    # Check fitness of new genotype compared to old genotype\n",
        "  if(fitness_function(child, benefits, volumes, max_volume) > fitness_function(genotype, benefits, volumes, max_volume)):       \n",
        "    # If new genotype is better, set to be main genotype\n",
        "    genotype = child\n",
        "  return genotype"
      ],
      "metadata": {
        "id": "rqMi7bXyLHDI"
      },
      "execution_count": 4,
      "outputs": []
    },
    {
      "cell_type": "code",
      "source": [
        "import numpy as np\n",
        "import random\n",
        "import matplotlib.pyplot as plt\n",
        "\n",
        "mutation_rate = 20\n",
        "# number of items in our problem\n",
        "num_items = 10\n",
        "\n",
        "# hill climbing genotype\n",
        "genotype = np.random.choice([0, 1], (num_items))\n",
        "\n",
        "print(\"Initial Genotype: \\t\", genotype)\n",
        "\n",
        "max_volume = 20\n",
        "benefits = np.array([5, 6, 1, 9, 2, 8, 4, 3, 7, 10])\n",
        "volumes = np.array([3, 2, 4, 5, 8, 9, 10, 1, 6, 7])\n",
        "print(\"Benefits: \\t\",benefits)\n",
        "print(\"Volumes: \\t\",volumes)\n",
        "\n",
        "values = []\n",
        "# Runs each generation\n",
        "# Runs 100 amount of generations \n",
        "for i in range(100):\n",
        "  # Generate a random number in the range of number of children\n",
        "  randInt = random.randrange(num_items)\n",
        "  # mutates\n",
        "  genotype = mutate(genotype, randInt, mutation_rate)\n",
        "  # adds fitness value to array\n",
        "  values.append(fitness_function(genotype, benefits, volumes, max_volume))\n",
        "# Returns all fitness values\n",
        "print(\"Improved Genotype: \\t\",genotype)\n",
        "print(values)\n",
        "plt.plot(values)\n",
        "plt.ylabel(\"Fitness\")\n",
        "plt.xlabel(\"Generation\")\n",
        "plt.savefig('singleHillClimber.png')\n",
        "plt.show()"
      ],
      "metadata": {
        "colab": {
          "base_uri": "https://localhost:8080/",
          "height": 386
        },
        "id": "UbdKEOPNN1Ha",
        "outputId": "3d97fba5-0059-4d6b-8140-179d7935e419"
      },
      "execution_count": 5,
      "outputs": [
        {
          "output_type": "stream",
          "name": "stdout",
          "text": [
            "Initial Genotype: \t [0 0 1 1 1 0 1 1 1 0]\n",
            "Benefits: \t [ 5  6  1  9  2  8  4  3  7 10]\n",
            "Volumes: \t [ 3  2  4  5  8  9 10  1  6  7]\n",
            "Improved Genotype: \t [0 0 1 1 1 0 1 1 1 0]\n",
            "[0, 0, 0, 0, 0, 0, 0, 0, 0, 0, 0, 0, 0, 0, 0, 0, 0, 0, 0, 0, 0, 0, 0, 0, 0, 0, 0, 0, 0, 0, 0, 0, 0, 0, 0, 0, 0, 0, 0, 0, 0, 0, 0, 0, 0, 0, 0, 0, 0, 0, 0, 0, 0, 0, 0, 0, 0, 0, 0, 0, 0, 0, 0, 0, 0, 0, 0, 0, 0, 0, 0, 0, 0, 0, 0, 0, 0, 0, 0, 0, 0, 0, 0, 0, 0, 0, 0, 0, 0, 0, 0, 0, 0, 0, 0, 0, 0, 0, 0, 0]\n"
          ]
        },
        {
          "output_type": "display_data",
          "data": {
            "text/plain": [
              "<Figure size 432x288 with 1 Axes>"
            ],
            "image/png": "[encoded data removed]"
          },
          "metadata": {
            "needs_background": "light"
          }
        }
      ]
    },
    {
      "cell_type": "markdown",
      "metadata": {
        "id": "PEk4iPGE-xd7"
      },
      "source": [
        "> **Task**: Code a population of hill climbers that attempt to solve the task in parallel. Plot the fitness of the hillclimbers versus the number of generations. How many individuals are successful for each run. Is a population of hill climbers less or more computational expensive? What happens when you make the problem bigger or change the problem.\n",
        "\n",
        "\n",
        "**Tips**:\n",
        "- For a population of hill climbers code many individuals in a matrix and keep fitness values in vector:"
      ]
    },
    {
      "cell_type": "code",
      "metadata": {
        "colab": {
          "base_uri": "https://localhost:8080/"
        },
        "id": "j4P3cTPh_DwA",
        "outputId": "00a25642-e43d-4e75-afb4-98cc6b5b0449"
      },
      "source": [
        "import numpy as np \n",
        "\n",
        "num_genes = 10\n",
        "num_individuals = 5\n",
        "num_items = 10\n",
        "mutation_rate = 10\n",
        "\n",
        "genotypes = np.random.choice([0, 1], (num_individuals, num_items))\n",
        "fitness = np.zeros(num_individuals)\n",
        "\n",
        "print(f\"All genotypes: \\n{genotypes}\")\n",
        "print(f\"Genotype 3: {genotypes[3, :]}\")\n",
        "print(f\"Genotype 3 gene 7: {genotypes[3, 7]}\")\n",
        "\n",
        "def multi_climbers(num_individuals, num_items, genotypes, fitness):\n",
        "  value_multi = []\n",
        "  # Run \"num_individuals\" different hillclimbers\n",
        "  for i in range(num_individuals):\n",
        "    # Generate a random number in the range of number of children\n",
        "    randInt = random.randrange(num_items)\n",
        "    # mutates\n",
        "    genotype = mutate(genotype, randInt, mutation_rate)\n",
        "    fitness[i] = (fitness_function(genotypes[i], benefits, volumes, max_volume))\n",
        "\n",
        "  return value_multi\n",
        "\n",
        "\n",
        "  "
      ],
      "execution_count": 6,
      "outputs": [
        {
          "output_type": "stream",
          "name": "stdout",
          "text": [
            "All genotypes: \n",
            "[[0 0 1 1 1 0 0 1 1 1]\n",
            " [1 0 1 0 1 0 0 0 0 1]\n",
            " [1 1 0 0 1 1 1 0 0 0]\n",
            " [0 0 1 0 1 1 1 0 1 1]\n",
            " [1 1 1 1 0 1 0 1 0 0]]\n",
            "Genotype 3: [0 0 1 0 1 1 1 0 1 1]\n",
            "Genotype 3 gene 7: 0\n"
          ]
        }
      ]
    },
    {
      "cell_type": "markdown",
      "metadata": {
        "id": "rzWQYnyYAsuz"
      },
      "source": [
        "> **Task**: Demonstrate that a local maxima exist. Can you find suboptimal solution that get worse with every mutation but is not the globally optimal solution. It can be helpful to plot fitness over time. "
      ]
    },
    {
      "cell_type": "code",
      "metadata": {
        "id": "7ceNmV0xAgsN",
        "colab": {
          "base_uri": "https://localhost:8080/",
          "height": 331
        },
        "outputId": "acc9fb4a-bbcf-47c2-fe9c-4687e2c9ef6d"
      },
      "source": [
        "mutation_rate = 90\n",
        "num_genes = 35\n",
        "num_individuals = 5 \n",
        "num_items = 10\n",
        "\n",
        "genotypes = np.random.choice([0, 1], (num_individuals, num_items))\n",
        "fitness = np.zeros(num_individuals)\n",
        "\n",
        "values_multi = np.zeros((num_individuals, num_genes))\n",
        "for i in range(num_genes): \n",
        "  # Run \"num_individuals\" different hillclimbers\n",
        "  for j in range(num_individuals):\n",
        "    # Generate a random number in the range of number of children\n",
        "    randInt = random.randrange(num_items)\n",
        "    # mutates\n",
        "    genotypes[j] = mutate(genotypes[j], randInt, mutation_rate)\n",
        "    fitness[j] = (fitness_function(genotypes[j], benefits, volumes, max_volume))\n",
        "    values_multi[j][i] = fitness[j]\n",
        "\n",
        "for i in range(num_individuals):\n",
        "  plt.plot(values_multi[i][:])\n",
        "plt.ylabel(\"Fitness\")\n",
        "plt.xlabel(\"Generation\")\n",
        "plt.savefig('multipleHillClimber.png')\n",
        "plt.show()\n",
        "print(np.amax(values_multi))\n",
        "print(np.average(values_multi))\n",
        "print(np.std(values_multi))\n",
        "#print(values_multi)"
      ],
      "execution_count": 7,
      "outputs": [
        {
          "output_type": "display_data",
          "data": {
            "text/plain": [
              "<Figure size 432x288 with 1 Axes>"
            ],
            "image/png": "[encoded data removed]"
          },
          "metadata": {
            "needs_background": "light"
          }
        },
        {
          "output_type": "stream",
          "name": "stdout",
          "text": [
            "19.0\n",
            "5.994285714285715\n",
            "7.912014114429952\n"
          ]
        }
      ]
    },
    {
      "cell_type": "markdown",
      "metadata": {
        "id": "ATqh69YdMjrH"
      },
      "source": [
        "# Microbial GA\n",
        "\n",
        "We will implement a steady GA with tournament selection for the knapsack problem. See lecture notes for a full description. You will need:\n",
        "\n",
        "1. **Population**: a collection of $N$ genotypes. See previous tips for information on how to encode this. \n",
        "2. **Genotype - phenotype** mapping (same as before)\n",
        "3. **A fitness function** same as before, store in vector length $N$.\n",
        "4. A **tournament selection** method - how to pick some subset of individuals and select some winners\n",
        "5. A **mutation operator** similar to before. Note here the mutation function should only be changing the genotype and not checking if the fitness is better or worse.\n",
        "\n",
        "The Pseudocode is as follows:\n",
        "\n",
        "1. Initialise random pop $P$\n",
        "2. Pick 2 individuals at random & evaluate them (in terms of fitness) finding a winner (W) and loser (L) \n",
        "3. Replace L with W\n",
        "4. Add a mutation to the replacement of L (which is a copy of W)\n",
        "5. Goto 2\n",
        "\n",
        "> **Task** Implement the above Pseudocode. Plot the fitness of the best individual versus the number of generations. The number of generations and number of tournaments are one and the same in this case. \n",
        "How well does it perform? Run several runs for fixed number of generations (tournaments) and plot a bar chart of the average fitness in different conditons.Does it do better than the hillclimber from last week? Whats is the effect of the mutation rate? \n",
        "\n",
        " "
      ]
    },
    {
      "cell_type": "code",
      "source": [
        "class MicrobialGA:\n",
        "    def __init__(self, mutation, size):\n",
        "        self.max_volume = 20\n",
        "        self.benefits = np.array([5, 6, 1, 9, 2, 8, 4, 3, 7, 10])\n",
        "        self.volumes = np.array([3, 2, 4, 5, 8, 9, 10, 1, 6, 7])\n",
        "        self.mutation = mutation\n",
        "        self.size = size\n",
        "        # Create and generate a population of random individuals\n",
        "        self.population = []\n",
        "        for i in range(self.size):\n",
        "            self.population += [[random.randrange(2) for i in range(10)]]\n",
        "            \n",
        "    # Mutatation function\n",
        "    def mutate(self, position):\n",
        "        # Makes a copy of individuals genotype\n",
        "        child = self.population[position].copy()\n",
        "        # Generate a random number between 0-9\n",
        "        randInt = random.randrange(10)\n",
        "        # If number is less than mutation rate\n",
        "        # This allows to control the chance of mutation\n",
        "        # If mutation is set to 2, then 20% chance\n",
        "        if(randInt < self.mutation):\n",
        "            # Flip selected gene\n",
        "            if(child[randInt] == 0):\n",
        "                child[randInt] = 1\n",
        "            else:\n",
        "                child[randInt] = 0\n",
        "            # Check fitness of new genotype compared to individuals genotype\n",
        "            if(self.fitness(child) > self.fitness(self.population[position])):\n",
        "                # If new genotype is better, set to be this individuals genotype\n",
        "                self.population[position] = child\n",
        "    \n",
        "    # Fitness function\n",
        "    def fitness(self, genes):\n",
        "        total_benefit = 0\n",
        "        total_volume = 0\n",
        "        # Go through all 10 genes\n",
        "        for i in range(10):\n",
        "            # Check gene to see if item is in knapsack\n",
        "            if(genes[i] == 1):\n",
        "                # Add benefit and volume to variable respectively\n",
        "                total_benefit += self.benefits[i]\n",
        "                total_volume += self.volumes[i]\n",
        "        \n",
        "        # If total volume of items in knapsack doesn't exceeds limit\n",
        "        if(total_volume <= self.max_volume):\n",
        "            # return total benefit\n",
        "            return total_benefit\n",
        "        # If capacity is exceeded, return 0\n",
        "        else:\n",
        "            return 0\n",
        "\n",
        "    # Compare function deals with comparing solutions and winner/loser process\n",
        "    def compare(self):\n",
        "        # Pick 2 random individuals\n",
        "        fighter1 = random.randrange(self.size)\n",
        "        fighter2 = random.randrange(self.size)\n",
        "               \n",
        "        # Compares fitness of individuals x1 and x2\n",
        "        if(self.fitness(self.population[fighter1]) > self.fitness(self.population[fighter2])):\n",
        "            # Loser takes genes from Winner\n",
        "            for i in range(10):\n",
        "              self.population[fighter2][i] = self.population[fighter1][i]\n",
        "            # Mutate loser after taking the genes\n",
        "            self.mutate(fighter2)\n",
        "        else:\n",
        "            # Loser takes genes from Winner\n",
        "            for i in range(10):\n",
        "              self.population[fighter1][i] = self.population[fighter2][i]\n",
        "            # Mutate loser after taking the genes\n",
        "            self.mutate(fighter1)\n",
        "    \n",
        "    # Function to run comparison process\n",
        "    def run(self, loops):\n",
        "        values = []\n",
        "        for i in range(loops):\n",
        "            # Compares two individuals, declares winner and loser\n",
        "            # Loser takes some genes and mutates\n",
        "            self.compare()\n",
        "            temp = 0\n",
        "            for i in range(self.size):\n",
        "                # Adds all fitness of all individuals together\n",
        "                temp += (self.fitness(self.population[i]))\n",
        "            # Gets the average of all fitnesses\n",
        "            temp = temp / self.size\n",
        "            # Adds average fitness of population to values\n",
        "            values.append(temp)\n",
        "        # Returns average fitness of population in each generation\n",
        "        return values\n",
        "\n",
        "    def run2(self, loops):\n",
        "        values_multi = []\n",
        "        for i in range(loops):\n",
        "          # Compares two individuals, declares winner and loser\n",
        "          # Loser takes some genes and mutates\n",
        "          self.compare()\n",
        "          for j in range(self.size):\n",
        "              value = []\n",
        "              # Adds all fitness of all individuals together\n",
        "              value.append(self.fitness(self.population[j]))\n",
        "        # Returns average fitness of population in each generation\n",
        "          values_multi.append(max(value)) \n",
        "        return values_multi"
      ],
      "metadata": {
        "id": "CDofKLg9D1Dx"
      },
      "execution_count": 17,
      "outputs": []
    },
    {
      "cell_type": "code",
      "source": [
        "num_gens = 100\n",
        "## MicrobialGA(mutation rate, crossover rate, size, k)\n",
        "# Muation rate of 50%, population size of 50\n",
        "y = MicrobialGA(0.5, 50)\n",
        "values_multi = y.run(num_gens)\n",
        "\n",
        "plt.plot(values_multi)\n",
        "plt.ylabel(\"Fitness\")\n",
        "plt.xlabel(\"Generation\")\n",
        "plt.savefig('MicrobialGA.png')\n",
        "plt.show()\n"
      ],
      "metadata": {
        "colab": {
          "base_uri": "https://localhost:8080/",
          "height": 283
        },
        "id": "oKQiiJW9Ht8o",
        "outputId": "edf628ca-3e1c-482b-b53c-bea19b58b2f2"
      },
      "execution_count": 31,
      "outputs": [
        {
          "output_type": "display_data",
          "data": {
            "text/plain": [
              "<Figure size 432x288 with 1 Axes>"
            ],
            "image/png": "[encoded data removed]"
          },
          "metadata": {
            "needs_background": "light"
          }
        }
      ]
    },
    {
      "cell_type": "markdown",
      "metadata": {
        "id": "k6KnpRenRl8n"
      },
      "source": [
        "# Spatial GA\n",
        "We will now implement a spatial GA with demes, see lectures. You will to put the population of N individuals on 1D array.\n",
        "\n",
        "Pseudocode is as follows:\n",
        "1. Initialise random pop $P$ \n",
        "2. Associate each individual with a position $x$, i.e, let the position of the genotype in the population array indicate the position on a 1D grid. \n",
        "3. Pick one individual at random, i.e. genotype $G_1$ at position $x_1$ \n",
        "4. Pick a second individual $G_2$ in the local neighbourhood of the first, i.e., pick a competitor from the local neighbourhood in the range $x_1+1$ to $x_1 + k$.\n",
        "5. Compare $G_1$ and $G_2$ finding a winner (W) and loser (L) \n",
        "6. Copy W over to L and add a mutation, insert it back to the population.\n",
        "7. Until success or give up, goto 3 \n",
        "\n",
        "\n",
        "> **Task** Implement the spatial GA. How do this algorithm compare to the first. Does it evolve quicker? Run several runs for fixed number of generations (tournaments) and plot a bar chart of the average fitness in different conditons. Does it get stuck in local minima more or less often? Why?\n",
        "\n",
        "**Tips:** You can use the same structure as before for the spatial genes:\n"
      ]
    },
    {
      "cell_type": "code",
      "metadata": {
        "colab": {
          "base_uri": "https://localhost:8080/"
        },
        "id": "Sxok8Or7Sp-8",
        "outputId": "741d6d97-344f-4bef-f91f-ed53f00b106e"
      },
      "source": [
        "import numpy as np \n",
        "\n",
        "num_genes = 10\n",
        "num_individuals = 5 # you probably want more than 5, this is just for plotting\n",
        "k = 3 # define local neighbourhood\n",
        "\n",
        "genotypes = np.random.choice([0, 1], (num_individuals, num_items))\n",
        "\n",
        "# lets say I want to sample a neighbour for indivudal 3\n",
        "local_neighbour_idx = np.random.randint(3+1, 3 + k) # pick random neighbour \n",
        "local_neighbour_gene = genotypes[local_neighbour_idx, :]\n",
        "print(local_neighbour_gene)"
      ],
      "execution_count": null,
      "outputs": [
        {
          "output_type": "stream",
          "text": [
            "[0 0 1 1 1 0 0 0 0 0]\n"
          ],
          "name": "stdout"
        }
      ]
    },
    {
      "cell_type": "code",
      "metadata": {
        "id": "9UW2Rz0_TsQv"
      },
      "source": [
        "class SpatialGA:\n",
        "    def __init__(self, mutation, size, k):\n",
        "        self.max_volume = 20\n",
        "        self.benefits = np.array([5, 6, 1, 9, 2, 8, 4, 3, 7, 10])\n",
        "        self.volumes = np.array([3, 2, 4, 5, 8, 9, 10, 1, 6, 7])\n",
        "        self.mutation = mutation\n",
        "        self.size = size\n",
        "        self.k = k\n",
        "        # Create and generate a population of random individuals\n",
        "        self.population = []\n",
        "        for i in range(self.size):\n",
        "            self.population += [[random.randrange(2) for i in range(10)]]\n",
        "            \n",
        "    def mutate(self, position):\n",
        "        child = self.population[position].copy()\n",
        "        # Generate a random number between 0-9\n",
        "        a = random.randrange(10)\n",
        "        # If number is less than mutation rate\n",
        "        # This allows me to control the chance of mutation\n",
        "        # If mutation is set to 2, then 20% chance\n",
        "        if(a < self.mutation):\n",
        "            # Flip selected gene\n",
        "            if(child[a] == 0):\n",
        "                child[a] = 1\n",
        "            else:\n",
        "                child[a] = 0\n",
        "            # Check fitness of new genotype compared to individuals genotype\n",
        "            if(self.fitness(child) > self.fitness(self.population[position])):\n",
        "                # If new genotype is better, set to be this individuals genotype\n",
        "                self.population[position] = child\n",
        "    \n",
        "    def fitness(self, genes):\n",
        "        total_benefit = 0\n",
        "        total_volume = 0\n",
        "        # Go through all 10 genes\n",
        "        for i in range(10):\n",
        "            # Check gene to see if item is in knapsack\n",
        "            if(genes[i] == 1):\n",
        "                # Add benefit and volume to variable respectively\n",
        "                total_benefit += self.benefits[i]\n",
        "                total_volume += self.volumes[i]\n",
        "        \n",
        "        # If total volume of items in knapsack doesn't exceeds limit\n",
        "        if(total_volume <= self.max_volume):\n",
        "            # return total benefit\n",
        "            return total_benefit\n",
        "        # If capacity is exceeded, return 0\n",
        "        else:\n",
        "            return 0\n",
        "\n",
        "    def compare(self):\n",
        "        # Pick 2 random individuals\n",
        "        fighter1 = random.randrange(self.size)\n",
        "        fighter2 = random.randrange(fighter1 + 1, fighter1 + self.k)\n",
        "        if(fighter2 > self.size - 1):\n",
        "          fighter2 = self.size - 1           \n",
        "        # Compares fitness of individuals x1 and x2\n",
        "        if(self.fitness(self.population[fighter1]) > self.fitness(self.population[fighter2])):\n",
        "            # Loser takes genes from Winner\n",
        "            for i in range(10):\n",
        "              self.population[fighter2][i] = self.population[fighter1][i]\n",
        "            # Mutate loser after taking the genes\n",
        "            self.mutate(fighter2)\n",
        "        else:\n",
        "            # Loser takes genes from Winner\n",
        "            for i in range(10):\n",
        "              self.population[fighter1][i] = self.population[fighter2][i]\n",
        "            # Mutate loser after taking the genes\n",
        "            self.mutate(fighter1)\n",
        "\n",
        "    def run(self, loops):\n",
        "        values = []\n",
        "        for i in range(loops):\n",
        "            # Compares two individuals, declares winner and loser\n",
        "            # Loser takes some genes and mutates\n",
        "            self.compare()\n",
        "            temp = 0\n",
        "            for i in range(self.size):\n",
        "                # Adds all fitness of all individuals together\n",
        "                temp += (self.fitness(self.population[i]))\n",
        "            # Gets the average of all fitnesses\n",
        "            temp = temp / self.size\n",
        "            # Adds average fitness of population to values\n",
        "            values.append(temp)\n",
        "        # Returns average fitness of population in each generation\n",
        "        return values"
      ],
      "execution_count": 35,
      "outputs": []
    },
    {
      "cell_type": "code",
      "source": [
        "num_populations = 5\n",
        "for i in range(num_populations):\n",
        "    ## MicrobialGA(mutation rate, crossover rate, size, k)\n",
        "    # Muation rate of 50%, crossover rate of 50%, population size of 50\n",
        "    y = SpatialGA(0.5, 50, 2)\n",
        "    # Run 100 generations\n",
        "    values = y.run(100)\n",
        "    plt.plot(values)\n",
        "plt.ylabel(\"Fitness\")\n",
        "plt.xlabel(\"Generation\")\n",
        "plt.savefig('SpatialGA.png')\n",
        "plt.show()"
      ],
      "metadata": {
        "colab": {
          "base_uri": "https://localhost:8080/",
          "height": 279
        },
        "id": "P7s22jV5XEOS",
        "outputId": "2ad232b8-fe5d-4d5c-833c-765670538b36"
      },
      "execution_count": 32,
      "outputs": [
        {
          "output_type": "display_data",
          "data": {
            "text/plain": [
              "<Figure size 432x288 with 1 Axes>"
            ],
            "image/png": "[encoded data removed]"
          },
          "metadata": {
            "needs_background": "light"
          }
        }
      ]
    },
    {
      "cell_type": "markdown",
      "metadata": {
        "id": "CUBu9E-rTXKg"
      },
      "source": [
        "# Full microbial GA\n",
        "We will now implement a spatial GA. You will to put the population of N individuals on 1D array.\n",
        "\n",
        "Pseudocode is as follows: \n",
        "1. Initialise random pop $P$ \n",
        "2. Associate each individual with a position $x$, i.e, let the position of the genotype in the population matrix indicate the position on a 1D grid. \n",
        "3. Pick one individual at random, i.e. genotype $G_1$ at position $x_1$ \n",
        "4. Pick a second individual $G_2$ in the local neighbourhood of the first, i.e., pick a competitor from the local neighbourhood in the range $x_1+1$ to $x_1 + k$ (start with $k=2$) \n",
        "5. Compare $G_1$ and $G_2$ finding a winner (W) and loser (L) \n",
        "6. Copy each gene of the winner W to the L with crossover probability (Pcrossover, say 0.5 to start) \n",
        "7. Add a mutation to the new L and insert it back to the population.\n",
        "8. Until success or give up, goto 3 \n",
        "\n",
        "\n",
        "\n",
        "> **Task**  Plot the fitness of the best individual versus the number of generations. Run several runs for fixed number of generations (tournaments) and plot a bar chart of the average fitness in different conditons. How does this algorithm compare to the first two? Does it evolve quicker? Does it get stuck in local minima more or less often. What is the effect of crossover on the speed of evolution?\n"
      ]
    },
    {
      "cell_type": "code",
      "metadata": {
        "id": "gpUabvutTyYg"
      },
      "source": [
        "class FullMicrobialGA:\n",
        "    def __init__(self, mutation, crossover, size, k):\n",
        "        # Declare the 10 items with names, benefits and volume\n",
        "        self.max_volume = 20\n",
        "        self.benefits = np.array([5, 6, 1, 9, 2, 8, 4, 3, 7, 10])\n",
        "        self.volumes = np.array([3, 2, 4, 5, 8, 9, 10, 1, 6, 7])\n",
        "        self.mutation = mutation\n",
        "        # Crossover rate is multipled by 100 to be in correct format\n",
        "        self.crossover = 100 * crossover\n",
        "        self.size = size\n",
        "        self.k = k\n",
        "        # Create and generate a population of random individuals\n",
        "        self.population = []\n",
        "        for i in range(self.size):\n",
        "            self.population += [[random.randrange(2) for i in range(10)]]\n",
        "            \n",
        "\n",
        "    def mutate(self, position):\n",
        "        child = self.population[position].copy()\n",
        "        a = random.randrange(10)\n",
        "        # If mutation is set to 2, then 20% chance\n",
        "        if(a < self.mutation):\n",
        "            # Flip selected gene\n",
        "            if(child[a] == 0):\n",
        "                child[a] = 1\n",
        "            else:\n",
        "                child[a] = 0\n",
        "            # Check fitness of new genotype compared to individuals genotype\n",
        "            if(self.fitness(child) > self.fitness(self.population[position])):\n",
        "                # If new genotype is better, set to be this individuals genotype\n",
        "                self.population[position] = child\n",
        "\n",
        "    def fitness(self, genes):\n",
        "        total_benefit = 0\n",
        "        total_volume = 0\n",
        "        # Go through all 10 genes\n",
        "        for i in range(10):\n",
        "            # Check gene to see if item is in knapsack\n",
        "            if(genes[i] == 1):\n",
        "                # Add benefit and volume to variable respectively\n",
        "                total_benefit += self.benefits[i]\n",
        "                total_volume += self.volumes[i]\n",
        "        \n",
        "        # If total volume of items in knapsack doesn't exceeds limit\n",
        "        if(total_volume <= self.max_volume):\n",
        "            # return total benefit\n",
        "            return total_benefit\n",
        "        # If capacity is exceeded, return 0\n",
        "        else:\n",
        "            return 0\n",
        "\n",
        "    def compare(self):\n",
        "        # Pick 2 random individuals\n",
        "        fighter1 = random.randrange(self.size)\n",
        "        fighter2 = random.randrange(fighter1 + 1, fighter1 + self.k)\n",
        "        if(fighter2 > self.size - 1):\n",
        "          fighter2 = self.size - 1    \n",
        "        # Compares fitness of individuals x1 and x2\n",
        "        if(self.fitness(self.population[fighter1]) > self.fitness(self.population[fighter2])):\n",
        "            # Loser takes genes from Winner\n",
        "            for i in range(10):\n",
        "                # Each gene has a chance to be taken depending on crossover rate\n",
        "                temp = random.randrange(100)\n",
        "                if(temp < self.crossover):\n",
        "                    # If crossover rate test passed, takes gene from winner\n",
        "                    self.population[fighter2][i] = self.population[fighter1][i]\n",
        "            # Mutate loser after taking the genes\n",
        "            self.mutate(fighter2)\n",
        "        else:\n",
        "            # Loser takes genes from Winner\n",
        "            for i in range(10):\n",
        "                # Each gene has a chance to be taken depending on crossover rate\n",
        "                # If crossover = 50 then 50% chance of taking a gene each time\n",
        "                temp = random.randrange(100)\n",
        "                if(temp < self.crossover):\n",
        "                    # If crossover rate test passed, takes gene from winner\n",
        "                    self.population[fighter1][i] = self.population[fighter2][i]\n",
        "            # Mutate loser after taking the genes\n",
        "            self.mutate(fighter1)\n",
        "    \n",
        "    def run(self, loops):\n",
        "        values = []\n",
        "        for i in range(loops):\n",
        "            # Compares two individuals, declares winner and loser\n",
        "            # Loser takes some genes and mutates\n",
        "            self.compare()\n",
        "            temp = 0\n",
        "            for i in range(self.size):\n",
        "                # Adds all fitness of all individuals together\n",
        "                temp += (self.fitness(self.population[i]))\n",
        "            # Gets the average of all fitnesses\n",
        "            temp = temp / self.size\n",
        "            # Adds average fitness of population to values\n",
        "            values.append(temp)\n",
        "        # Returns average fitness of population in each generation\n",
        "        return values\n"
      ],
      "execution_count": 34,
      "outputs": []
    },
    {
      "cell_type": "code",
      "source": [
        "num_individuals = 5\n",
        "num_gens = 100\n",
        "mutation_prob = 0.5\n",
        "cross_prob = 0.5\n",
        "pop_size = 50\n",
        "k = 2\n",
        "for i in range(num_individuals):\n",
        "    ## FullMicrobialGA(mutation rate, crossover rate, size, k)\n",
        "    # Mutation rate of 50%, crossover rate of 50%, population size of 50\n",
        "    y = FullMicrobialGA(mutation_prob, cross_prob, pop_size, k)\n",
        "    # Run 100 generations\n",
        "    values = y.run(num_gens)\n",
        "    plt.plot(values)\n",
        "\n",
        "plt.ylabel(\"Fitness\")\n",
        "plt.xlabel(\"Generation\")\n",
        "plt.savefig('FullMicrobialGA.png')\n",
        "plt.show()\n",
        "print(np.std(values))\n",
        "\n"
      ],
      "metadata": {
        "colab": {
          "base_uri": "https://localhost:8080/",
          "height": 296
        },
        "id": "u4YlbxVAYg9W",
        "outputId": "b8554d6a-5a46-4d68-8a94-73ef43fc48bc"
      },
      "execution_count": 49,
      "outputs": [
        {
          "output_type": "display_data",
          "data": {
            "text/plain": [
              "<Figure size 432x288 with 1 Axes>"
            ],
            "image/png": "[encoded data removed]"
          },
          "metadata": {
            "needs_background": "light"
          }
        },
        {
          "output_type": "stream",
          "name": "stdout",
          "text": [
            "2.5869105202924976\n"
          ]
        }
      ]
    }
  ]
}